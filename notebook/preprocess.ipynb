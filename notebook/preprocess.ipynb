{
 "cells": [
  {
   "cell_type": "code",
   "execution_count": 1,
   "metadata": {},
   "outputs": [],
   "source": [
    "import os\n",
    "import os.path as osp\n",
    "import numpy as np\n",
    "import json\n",
    "import torch\n",
    "import re\n",
    "from tqdm import tqdm\n",
    "from icecream import ic\n",
    "from transformers import AutoTokenizer\n",
    "tokenizer = AutoTokenizer.from_pretrained(\"../models/chinese-roberta-wwm-ext\")\n",
    "crime_pattern = re.compile(r'已构成(.*?)罪')"
   ]
  },
  {
   "cell_type": "code",
   "execution_count": 2,
   "metadata": {},
   "outputs": [],
   "source": [
    "def preprocess_data(data_path, has_label=False):\n",
    "    query_path = osp.join(data_path, 'query.json')\n",
    "    all_candidates_path = osp.join(data_path, 'candidates')\n",
    "    if has_label:\n",
    "        label_path = osp.join(data_path, 'label_top30_dict.json')\n",
    "        label = json.load(open(label_path))\n",
    "        labels = []\n",
    "    edges, inputs, query_ridxs, node_graph_ids, edge_graph_ids, candidate_ridxs = [\n",
    "    ], [], [], [], [], []\n",
    "    with open(query_path) as f:\n",
    "        query_lines = f.readlines()\n",
    "    for query_line in tqdm(query_lines):\n",
    "        query_line = query_line.strip()\n",
    "        query_dict = json.loads(query_line)\n",
    "        input_str = \"[SEP]\".join(query_dict['crime']) + \\\n",
    "            \"[SEP]\"+query_dict['q']\n",
    "        tokenized_inputs = tokenizer(input_str, return_tensors=\"pt\")\n",
    "        query_idx = len(inputs)\n",
    "        inputs.append(tokenized_inputs)\n",
    "        node_graph_ids.append(len(query_ridxs))\n",
    "        query_ridxs.append(query_dict['ridx'])\n",
    "        query_ridx = str(query_dict['ridx'])\n",
    "        candidates_path = osp.join(all_candidates_path, query_ridx)\n",
    "        for candidate in os.listdir(candidates_path):\n",
    "            candidate_ridx = candidate[:-5]\n",
    "            candidate_path = osp.join(candidates_path, candidate)\n",
    "            candidate_dict = json.load(open(candidate_path))\n",
    "            all_text = ''.join(candidate_dict.values())\n",
    "            crime_name = crime_pattern.search(all_text)\n",
    "            if crime_name is None:\n",
    "                crime_name = ''\n",
    "            else:\n",
    "                crime_name = crime_name.group(1) + '罪'\n",
    "            candidate_text = '[SEP]'.join(\n",
    "                [crime_name, candidate_dict['ajjbqk']])\n",
    "            tokenized_candidate = tokenizer(\n",
    "                candidate_text, return_tensors=\"pt\")\n",
    "            candidate_idx = len(inputs)\n",
    "            inputs.append(tokenized_candidate)\n",
    "            node_graph_ids.append(node_graph_ids[-1])\n",
    "            edge_graph_ids.append(node_graph_ids[-1])\n",
    "            edges.append([query_idx, candidate_idx])\n",
    "            candidate_ridxs.append(int(candidate_ridx))\n",
    "            if has_label:\n",
    "                if candidate_ridx in label[query_ridx]:\n",
    "                    labels.append(label[query_ridx][candidate_ridx])\n",
    "                else:\n",
    "                    labels.append(0)\n",
    "    if has_label:\n",
    "        return inputs, edges, query_ridxs, node_graph_ids, edge_graph_ids, candidate_ridxs, labels\n",
    "    return inputs, edges, query_ridxs, node_graph_ids, edge_graph_ids, candidate_ridxs\n",
    "\n",
    "\n",
    "def save(processed_path, edges, inputs, query_ridxs, node_graph_ids, edge_graph_ids, candidate_ridxs, labels=None):\n",
    "    torch.save(inputs, osp.join(processed_path, 'inputs.pt'))\n",
    "    torch.save(edges, osp.join(processed_path, 'edges.pt'))\n",
    "    torch.save(query_ridxs, osp.join(processed_path, 'query_ridxs.pt'))\n",
    "    torch.save(candidate_ridxs, osp.join(processed_path, 'candidate_ridxs.pt'))\n",
    "    torch.save(node_graph_ids, osp.join(processed_path, 'node_graph_ids.pt'))\n",
    "    torch.save(edge_graph_ids, osp.join(processed_path, 'edge_graph_ids.pt'))\n",
    "    if labels is not None:\n",
    "        torch.save(labels, osp.join(processed_path, 'labels.pt'))"
   ]
  },
  {
   "cell_type": "code",
   "execution_count": 8,
   "metadata": {},
   "outputs": [
    {
     "name": "stderr",
     "output_type": "stream",
     "text": [
      "100%|██████████| 197/197 [02:15<00:00,  1.45it/s]\n",
      "ic| len(train_inputs): 19915\n",
      "    len(train_edges): 19718\n",
      "    len(train_query_ridxs): 197\n",
      "    len(train_node_graph_ids): 19915\n",
      "    len(train_edge_graph_ids): 19718\n",
      "    len(train_candidate_ridxs): 19718\n",
      "    len(train_labels): 19718\n"
     ]
    },
    {
     "data": {
      "text/plain": [
       "(19915, 19718, 197, 19915, 19718, 19718, 19718)"
      ]
     },
     "execution_count": 8,
     "metadata": {},
     "output_type": "execute_result"
    }
   ],
   "source": [
    "train_path = '../data/train'\n",
    "train_inputs, train_edges, train_query_ridxs, train_node_graph_ids, train_edge_graph_ids, train_candidate_ridxs, train_labels = preprocess_data(\n",
    "    train_path, has_label=True)"
   ]
  },
  {
   "cell_type": "code",
   "execution_count": 9,
   "metadata": {},
   "outputs": [
    {
     "name": "stderr",
     "output_type": "stream",
     "text": [
      "ic| len(train_inputs): 19915\n",
      "    len(train_edges): 19718\n",
      "    len(train_query_ridxs): 197\n",
      "    len(train_node_graph_ids): 19915\n",
      "    len(train_edge_graph_ids): 19718\n",
      "    len(train_candidate_ridxs): 19718\n",
      "    len(train_labels): 19718\n",
      "ic| train_inputs[0]: {'attention_mask': tensor([[1, 1, 1, 1, 1, 1, 1, 1, 1, 1, 1, 1, 1, 1, 1, 1, 1, 1, 1, 1, 1, 1, 1, 1,\n",
      "                              1, 1, 1, 1, 1, 1, 1, 1, 1, 1, 1, 1, 1, 1, 1, 1, 1, 1, 1, 1, 1, 1, 1, 1,\n",
      "                              1, 1, 1, 1, 1, 1, 1, 1, 1, 1, 1, 1, 1, 1, 1, 1, 1, 1, 1, 1, 1, 1, 1, 1,\n",
      "                              1, 1, 1, 1, 1, 1, 1, 1, 1, 1, 1, 1, 1, 1, 1, 1, 1, 1, 1, 1, 1, 1, 1, 1,\n",
      "                              1, 1, 1, 1, 1, 1, 1, 1, 1, 1, 1, 1, 1, 1, 1, 1, 1, 1, 1, 1, 1, 1, 1, 1,\n",
      "                              1, 1, 1, 1, 1, 1, 1, 1, 1, 1, 1, 1, 1, 1, 1, 1, 1, 1, 1, 1, 1, 1, 1, 1,\n",
      "                              1, 1, 1, 1, 1, 1, 1, 1, 1, 1, 1, 1, 1, 1, 1, 1, 1, 1, 1, 1, 1, 1, 1, 1,\n",
      "                              1, 1, 1, 1, 1, 1, 1, 1, 1, 1, 1, 1, 1, 1, 1, 1, 1, 1, 1, 1, 1, 1, 1, 1,\n",
      "                              1, 1, 1, 1, 1, 1, 1, 1, 1, 1, 1, 1, 1, 1, 1, 1, 1, 1, 1, 1, 1, 1, 1, 1,\n",
      "                              1, 1, 1, 1, 1, 1, 1, 1, 1, 1, 1, 1, 1, 1, 1, 1, 1, 1, 1, 1, 1, 1, 1, 1,\n",
      "                              1, 1, 1, 1, 1, 1, 1, 1, 1, 1, 1, 1, 1, 1, 1, 1, 1, 1, 1, 1, 1, 1, 1, 1,\n",
      "                              1, 1, 1, 1, 1, 1, 1, 1, 1, 1, 1, 1, 1, 1, 1, 1, 1, 1, 1, 1, 1, 1, 1, 1,\n",
      "                              1, 1, 1, 1, 1, 1, 1, 1, 1, 1, 1, 1, 1, 1, 1, 1, 1, 1, 1, 1, 1, 1, 1, 1,\n",
      "                              1, 1, 1, 1, 1, 1, 1, 1, 1, 1, 1]]),\n",
      "                      'input_ids': tensor([[ 101, 1314, 7372, 7730, 7724, 5389,  102, 8271, 2399,  122, 3299, 8115,\n",
      "                              3189, 8122, 3198, 8108, 1146, 6387, 8024, 6158, 1440,  782, 5811, 3173,\n",
      "                              1744, 6983, 1400, 7730, 7724, 3960,  143, 9569, 9569, 9569, 9569, 9569,\n",
      "                              1384, 2207, 1798, 6771, 6756, 3784, 7270, 3763, 2356, 1921, 2552, 1277,\n",
      "                               823, 5812, 1046, 3172, 1920, 6887, 4507, 1298, 2518, 1266, 6121, 7724,\n",
      "                              5635, 3717, 4510, 1061, 2229, 1825, 1765, 6662, 3667, 3198, 6158, 1762,\n",
      "                              6421, 1905, 2809, 1249, 4638, 7270, 3763, 2356, 1062, 2128, 2229,  769,\n",
      "                              6858, 6356, 2175, 3118, 7339, 3696, 6356, 3466, 3389, 8024, 5307, 4385,\n",
      "                              1767, 6983, 5125, 1430, 3698, 3466, 3844, 8024, 3844, 6407, 5310, 3362,\n",
      "                              3227, 4850, 1071, 6117, 3890,  704,  734, 7003, 1419, 7030,  711, 9996,\n",
      "                              3690, 1046, 8027, 8135, 3690, 1285, 8024, 7390, 1315, 6158, 1440,  782,\n",
      "                              5811, 3173, 1744, 6158,  769, 6356, 2372, 5635, 3959, 1298, 4689, 6084,\n",
      "                              1814, 1278, 7368, 2853, 1357, 6117, 3416, 8024, 2400, 2199, 6117, 3416,\n",
      "                              6843, 5635, 7270, 3763, 2356, 1062, 2128, 2229, 4289, 6395, 7063, 2137,\n",
      "                              2792, 3466, 7741, 8024, 5307, 3466, 7741, 8024, 1071, 6117, 3890,  704,\n",
      "                               734, 7003, 1419, 7030,  711, 9250,  119,  122, 3690, 1046, 8027, 8135,\n",
      "                              3690, 1285,  511, 8170, 2399, 8111, 3299, 8115, 3189, 8024, 6158, 1440,\n",
      "                               782, 5811, 3173, 1744, 5307, 7270, 3763, 2356, 3655, 4565,  782, 5468,\n",
      "                              1394,  833, 2144, 3417,  711, 5125, 4868, 3655, 4565,  782,  511, 8271,\n",
      "                              2399,  126, 3299, 8143, 3189, 8024, 5307, 3959, 1298, 4689, 5696, 5900,\n",
      "                              1385, 3791, 7063, 2137,  704, 2552, 7063, 2137, 8024, 6158, 1440,  782,\n",
      "                              5811, 3173, 1744,  868, 3428, 3198, 1905,  754, 3249, 6858, 7004, 6983,\n",
      "                              4307, 2578, 8024, 2141, 3177, 1314, 2154, 6121,  711, 3198, 3300, 2130,\n",
      "                              1059, 1152,  752, 6569,  818, 5543, 1213,  511, 8271, 2399,  122, 3299,\n",
      "                              8114, 3189, 8024, 6158, 1440,  782, 5811, 3173, 1744,  712, 1220, 1168,\n",
      "                              1062, 2128, 3322, 1068, 2832, 3428, 8024, 1071, 2495, 3428, 1400, 1963,\n",
      "                              2141,  897, 6835,  749, 5632, 2346, 4638, 5389, 6121,  511,  102]]),\n",
      "                      'token_type_ids': tensor([[0, 0, 0, 0, 0, 0, 0, 0, 0, 0, 0, 0, 0, 0, 0, 0, 0, 0, 0, 0, 0, 0, 0, 0,\n",
      "                              0, 0, 0, 0, 0, 0, 0, 0, 0, 0, 0, 0, 0, 0, 0, 0, 0, 0, 0, 0, 0, 0, 0, 0,\n",
      "                              0, 0, 0, 0, 0, 0, 0, 0, 0, 0, 0, 0, 0, 0, 0, 0, 0, 0, 0, 0, 0, 0, 0, 0,\n",
      "                              0, 0, 0, 0, 0, 0, 0, 0, 0, 0, 0, 0, 0, 0, 0, 0, 0, 0, 0, 0, 0, 0, 0, 0,\n",
      "                              0, 0, 0, 0, 0, 0, 0, 0, 0, 0, 0, 0, 0, 0, 0, 0, 0, 0, 0, 0, 0, 0, 0, 0,\n",
      "                              0, 0, 0, 0, 0, 0, 0, 0, 0, 0, 0, 0, 0, 0, 0, 0, 0, 0, 0, 0, 0, 0, 0, 0,\n",
      "                              0, 0, 0, 0, 0, 0, 0, 0, 0, 0, 0, 0, 0, 0, 0, 0, 0, 0, 0, 0, 0, 0, 0, 0,\n",
      "                              0, 0, 0, 0, 0, 0, 0, 0, 0, 0, 0, 0, 0, 0, 0, 0, 0, 0, 0, 0, 0, 0, 0, 0,\n",
      "                              0, 0, 0, 0, 0, 0, 0, 0, 0, 0, 0, 0, 0, 0, 0, 0, 0, 0, 0, 0, 0, 0, 0, 0,\n",
      "                              0, 0, 0, 0, 0, 0, 0, 0, 0, 0, 0, 0, 0, 0, 0, 0, 0, 0, 0, 0, 0, 0, 0, 0,\n",
      "                              0, 0, 0, 0, 0, 0, 0, 0, 0, 0, 0, 0, 0, 0, 0, 0, 0, 0, 0, 0, 0, 0, 0, 0,\n",
      "                              0, 0, 0, 0, 0, 0, 0, 0, 0, 0, 0, 0, 0, 0, 0, 0, 0, 0, 0, 0, 0, 0, 0, 0,\n",
      "                              0, 0, 0, 0, 0, 0, 0, 0, 0, 0, 0, 0, 0, 0, 0, 0, 0, 0, 0, 0, 0, 0, 0, 0,\n",
      "                              0, 0, 0, 0, 0, 0, 0, 0, 0, 0, 0]])}\n",
      "    train_edges[0]: [0, 1]\n",
      "    train_query_ridxs[0]: 5156\n",
      "    train_node_graph_ids[0]: 0\n",
      "    train_edge_graph_ids[0]: 0\n",
      "    train_candidate_ridxs[0]: 10660\n",
      "    train_labels[0]: 0\n"
     ]
    },
    {
     "data": {
      "text/plain": [
       "({'input_ids': tensor([[ 101, 1314, 7372, 7730, 7724, 5389,  102, 8271, 2399,  122, 3299, 8115,\n",
       "          3189, 8122, 3198, 8108, 1146, 6387, 8024, 6158, 1440,  782, 5811, 3173,\n",
       "          1744, 6983, 1400, 7730, 7724, 3960,  143, 9569, 9569, 9569, 9569, 9569,\n",
       "          1384, 2207, 1798, 6771, 6756, 3784, 7270, 3763, 2356, 1921, 2552, 1277,\n",
       "           823, 5812, 1046, 3172, 1920, 6887, 4507, 1298, 2518, 1266, 6121, 7724,\n",
       "          5635, 3717, 4510, 1061, 2229, 1825, 1765, 6662, 3667, 3198, 6158, 1762,\n",
       "          6421, 1905, 2809, 1249, 4638, 7270, 3763, 2356, 1062, 2128, 2229,  769,\n",
       "          6858, 6356, 2175, 3118, 7339, 3696, 6356, 3466, 3389, 8024, 5307, 4385,\n",
       "          1767, 6983, 5125, 1430, 3698, 3466, 3844, 8024, 3844, 6407, 5310, 3362,\n",
       "          3227, 4850, 1071, 6117, 3890,  704,  734, 7003, 1419, 7030,  711, 9996,\n",
       "          3690, 1046, 8027, 8135, 3690, 1285, 8024, 7390, 1315, 6158, 1440,  782,\n",
       "          5811, 3173, 1744, 6158,  769, 6356, 2372, 5635, 3959, 1298, 4689, 6084,\n",
       "          1814, 1278, 7368, 2853, 1357, 6117, 3416, 8024, 2400, 2199, 6117, 3416,\n",
       "          6843, 5635, 7270, 3763, 2356, 1062, 2128, 2229, 4289, 6395, 7063, 2137,\n",
       "          2792, 3466, 7741, 8024, 5307, 3466, 7741, 8024, 1071, 6117, 3890,  704,\n",
       "           734, 7003, 1419, 7030,  711, 9250,  119,  122, 3690, 1046, 8027, 8135,\n",
       "          3690, 1285,  511, 8170, 2399, 8111, 3299, 8115, 3189, 8024, 6158, 1440,\n",
       "           782, 5811, 3173, 1744, 5307, 7270, 3763, 2356, 3655, 4565,  782, 5468,\n",
       "          1394,  833, 2144, 3417,  711, 5125, 4868, 3655, 4565,  782,  511, 8271,\n",
       "          2399,  126, 3299, 8143, 3189, 8024, 5307, 3959, 1298, 4689, 5696, 5900,\n",
       "          1385, 3791, 7063, 2137,  704, 2552, 7063, 2137, 8024, 6158, 1440,  782,\n",
       "          5811, 3173, 1744,  868, 3428, 3198, 1905,  754, 3249, 6858, 7004, 6983,\n",
       "          4307, 2578, 8024, 2141, 3177, 1314, 2154, 6121,  711, 3198, 3300, 2130,\n",
       "          1059, 1152,  752, 6569,  818, 5543, 1213,  511, 8271, 2399,  122, 3299,\n",
       "          8114, 3189, 8024, 6158, 1440,  782, 5811, 3173, 1744,  712, 1220, 1168,\n",
       "          1062, 2128, 3322, 1068, 2832, 3428, 8024, 1071, 2495, 3428, 1400, 1963,\n",
       "          2141,  897, 6835,  749, 5632, 2346, 4638, 5389, 6121,  511,  102]]), 'token_type_ids': tensor([[0, 0, 0, 0, 0, 0, 0, 0, 0, 0, 0, 0, 0, 0, 0, 0, 0, 0, 0, 0, 0, 0, 0, 0,\n",
       "          0, 0, 0, 0, 0, 0, 0, 0, 0, 0, 0, 0, 0, 0, 0, 0, 0, 0, 0, 0, 0, 0, 0, 0,\n",
       "          0, 0, 0, 0, 0, 0, 0, 0, 0, 0, 0, 0, 0, 0, 0, 0, 0, 0, 0, 0, 0, 0, 0, 0,\n",
       "          0, 0, 0, 0, 0, 0, 0, 0, 0, 0, 0, 0, 0, 0, 0, 0, 0, 0, 0, 0, 0, 0, 0, 0,\n",
       "          0, 0, 0, 0, 0, 0, 0, 0, 0, 0, 0, 0, 0, 0, 0, 0, 0, 0, 0, 0, 0, 0, 0, 0,\n",
       "          0, 0, 0, 0, 0, 0, 0, 0, 0, 0, 0, 0, 0, 0, 0, 0, 0, 0, 0, 0, 0, 0, 0, 0,\n",
       "          0, 0, 0, 0, 0, 0, 0, 0, 0, 0, 0, 0, 0, 0, 0, 0, 0, 0, 0, 0, 0, 0, 0, 0,\n",
       "          0, 0, 0, 0, 0, 0, 0, 0, 0, 0, 0, 0, 0, 0, 0, 0, 0, 0, 0, 0, 0, 0, 0, 0,\n",
       "          0, 0, 0, 0, 0, 0, 0, 0, 0, 0, 0, 0, 0, 0, 0, 0, 0, 0, 0, 0, 0, 0, 0, 0,\n",
       "          0, 0, 0, 0, 0, 0, 0, 0, 0, 0, 0, 0, 0, 0, 0, 0, 0, 0, 0, 0, 0, 0, 0, 0,\n",
       "          0, 0, 0, 0, 0, 0, 0, 0, 0, 0, 0, 0, 0, 0, 0, 0, 0, 0, 0, 0, 0, 0, 0, 0,\n",
       "          0, 0, 0, 0, 0, 0, 0, 0, 0, 0, 0, 0, 0, 0, 0, 0, 0, 0, 0, 0, 0, 0, 0, 0,\n",
       "          0, 0, 0, 0, 0, 0, 0, 0, 0, 0, 0, 0, 0, 0, 0, 0, 0, 0, 0, 0, 0, 0, 0, 0,\n",
       "          0, 0, 0, 0, 0, 0, 0, 0, 0, 0, 0]]), 'attention_mask': tensor([[1, 1, 1, 1, 1, 1, 1, 1, 1, 1, 1, 1, 1, 1, 1, 1, 1, 1, 1, 1, 1, 1, 1, 1,\n",
       "          1, 1, 1, 1, 1, 1, 1, 1, 1, 1, 1, 1, 1, 1, 1, 1, 1, 1, 1, 1, 1, 1, 1, 1,\n",
       "          1, 1, 1, 1, 1, 1, 1, 1, 1, 1, 1, 1, 1, 1, 1, 1, 1, 1, 1, 1, 1, 1, 1, 1,\n",
       "          1, 1, 1, 1, 1, 1, 1, 1, 1, 1, 1, 1, 1, 1, 1, 1, 1, 1, 1, 1, 1, 1, 1, 1,\n",
       "          1, 1, 1, 1, 1, 1, 1, 1, 1, 1, 1, 1, 1, 1, 1, 1, 1, 1, 1, 1, 1, 1, 1, 1,\n",
       "          1, 1, 1, 1, 1, 1, 1, 1, 1, 1, 1, 1, 1, 1, 1, 1, 1, 1, 1, 1, 1, 1, 1, 1,\n",
       "          1, 1, 1, 1, 1, 1, 1, 1, 1, 1, 1, 1, 1, 1, 1, 1, 1, 1, 1, 1, 1, 1, 1, 1,\n",
       "          1, 1, 1, 1, 1, 1, 1, 1, 1, 1, 1, 1, 1, 1, 1, 1, 1, 1, 1, 1, 1, 1, 1, 1,\n",
       "          1, 1, 1, 1, 1, 1, 1, 1, 1, 1, 1, 1, 1, 1, 1, 1, 1, 1, 1, 1, 1, 1, 1, 1,\n",
       "          1, 1, 1, 1, 1, 1, 1, 1, 1, 1, 1, 1, 1, 1, 1, 1, 1, 1, 1, 1, 1, 1, 1, 1,\n",
       "          1, 1, 1, 1, 1, 1, 1, 1, 1, 1, 1, 1, 1, 1, 1, 1, 1, 1, 1, 1, 1, 1, 1, 1,\n",
       "          1, 1, 1, 1, 1, 1, 1, 1, 1, 1, 1, 1, 1, 1, 1, 1, 1, 1, 1, 1, 1, 1, 1, 1,\n",
       "          1, 1, 1, 1, 1, 1, 1, 1, 1, 1, 1, 1, 1, 1, 1, 1, 1, 1, 1, 1, 1, 1, 1, 1,\n",
       "          1, 1, 1, 1, 1, 1, 1, 1, 1, 1, 1]])},\n",
       " [0, 1],\n",
       " 5156,\n",
       " 0,\n",
       " 0,\n",
       " 10660,\n",
       " 0)"
      ]
     },
     "execution_count": 9,
     "metadata": {},
     "output_type": "execute_result"
    }
   ],
   "source": [
    "ic(len(train_inputs), len(train_edges), len(train_query_ridxs), len(train_node_graph_ids), len(train_edge_graph_ids), len(train_candidate_ridxs), len(train_labels))\n",
    "ic(train_inputs[0], train_edges[0], train_query_ridxs[0], train_node_graph_ids[0], train_edge_graph_ids[0], train_candidate_ridxs[0], train_labels[0])"
   ]
  },
  {
   "cell_type": "code",
   "execution_count": 4,
   "metadata": {},
   "outputs": [],
   "source": [
    "train_processed_path = '../data/train/processed'\n",
    "save(train_processed_path, train_edges, train_inputs, train_query_ridxs,\n",
    "     train_node_graph_ids, train_edge_graph_ids, train_candidate_ridxs, train_labels)"
   ]
  },
  {
   "cell_type": "code",
   "execution_count": 5,
   "metadata": {},
   "outputs": [
    {
     "name": "stderr",
     "output_type": "stream",
     "text": [
      "100%|██████████| 40/40 [00:09<00:00,  4.16it/s]\n"
     ]
    }
   ],
   "source": [
    "test_path = '../data/test'\n",
    "test_inputs, test_edges, test_query_ridxs, test_node_graph_ids, test_edge_graph_ids, test_candidate_ridxs = preprocess_data(\n",
    "    test_path, has_label=False)\n",
    "test_processed_path = '../data/test/processed'\n",
    "save(test_processed_path, test_edges, test_inputs, test_query_ridxs,\n",
    "     test_node_graph_ids, test_edge_graph_ids, test_candidate_ridxs)"
   ]
  },
  {
   "cell_type": "code",
   "execution_count": 6,
   "metadata": {},
   "outputs": [],
   "source": [
    "val_query_ridxs = train_query_ridxs[:17]\n",
    "edge_split_idx = (np.array(train_edge_graph_ids) < 17).sum()\n",
    "node_split_idx = (np.array(train_node_graph_ids) < 17).sum()\n",
    "val_inputs = train_inputs[:node_split_idx]\n",
    "val_edges = train_edges[:edge_split_idx]\n",
    "val_labels = train_labels[:edge_split_idx]\n",
    "val_candidate_ridxs = train_candidate_ridxs[:edge_split_idx]\n",
    "val_node_graph_ids = train_node_graph_ids[:node_split_idx]\n",
    "val_edge_graph_ids = train_edge_graph_ids[:edge_split_idx]\n",
    "val_processed_path = '../data/val/processed'\n",
    "save(val_processed_path, val_edges, val_inputs, val_query_ridxs,\n",
    "     val_node_graph_ids, val_edge_graph_ids, val_candidate_ridxs, val_labels)"
   ]
  },
  {
   "cell_type": "code",
   "execution_count": 12,
   "metadata": {},
   "outputs": [],
   "source": [
    "train_dev_query_ridxs = train_query_ridxs[17:]\n",
    "train_dev_inputs = train_inputs[node_split_idx:]\n",
    "train_dev_edges = np.array(train_edges[edge_split_idx:]) - node_split_idx\n",
    "train_dev_edges = train_dev_edges.tolist()\n",
    "train_dev_labels = train_labels[edge_split_idx:]\n",
    "train_dev_candidate_ridxs = train_candidate_ridxs[edge_split_idx:]\n",
    "train_dev_node_graph_ids = np.array(train_node_graph_ids[node_split_idx:]) - 17\n",
    "train_dev_edge_graph_ids = np.array(train_edge_graph_ids[edge_split_idx:]) - 17\n",
    "train_dev_node_graph_idx = train_dev_node_graph_ids.tolist()\n",
    "train_dev_edge_graph_idx = train_dev_edge_graph_ids.tolist()\n",
    "train_dev_processed_path = '../data/train_dev/processed'\n",
    "save(train_dev_processed_path, train_dev_edges, train_dev_inputs,\n",
    "     train_dev_query_ridxs, train_dev_node_graph_ids, train_dev_edge_graph_ids,\n",
    "     train_dev_candidate_ridxs, train_dev_labels)\n"
   ]
  },
  {
   "cell_type": "code",
   "execution_count": null,
   "metadata": {},
   "outputs": [],
   "source": []
  }
 ],
 "metadata": {
  "interpreter": {
   "hash": "d3db371a07bed52793c8840e411d9d35d61e1cfd36a2896481af3a875f3ddc4b"
  },
  "kernelspec": {
   "display_name": "Python 3.9.12 ('search')",
   "language": "python",
   "name": "python3"
  },
  "language_info": {
   "codemirror_mode": {
    "name": "ipython",
    "version": 3
   },
   "file_extension": ".py",
   "mimetype": "text/x-python",
   "name": "python",
   "nbconvert_exporter": "python",
   "pygments_lexer": "ipython3",
   "version": "3.9.12"
  },
  "orig_nbformat": 4
 },
 "nbformat": 4,
 "nbformat_minor": 2
}
